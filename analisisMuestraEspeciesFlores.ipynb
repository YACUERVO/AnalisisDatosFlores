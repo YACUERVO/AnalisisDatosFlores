{
  "nbformat": 4,
  "nbformat_minor": 0,
  "metadata": {
    "colab": {
      "provenance": [],
      "authorship_tag": "ABX9TyN6Lm3rQBkKQZpdOGmKMBby",
      "include_colab_link": true
    },
    "kernelspec": {
      "name": "python3",
      "display_name": "Python 3"
    },
    "language_info": {
      "name": "python"
    }
  },
  "cells": [
    {
      "cell_type": "markdown",
      "metadata": {
        "id": "view-in-github",
        "colab_type": "text"
      },
      "source": [
        "<a href=\"https://colab.research.google.com/github/YACUERVO/AnalisisDatosFlores/blob/main/analisisMuestraEspeciesFlores.ipynb\" target=\"_parent\"><img src=\"https://colab.research.google.com/assets/colab-badge.svg\" alt=\"Open In Colab\"/></a>"
      ]
    },
    {
      "cell_type": "code",
      "execution_count": 3,
      "metadata": {
        "id": "6SN93XwhDxeS"
      },
      "outputs": [],
      "source": [
        "import csv\n",
        "import math\n",
        "\n",
        "#Cargar datos\n",
        "\n",
        "def cargar_datos(filepath):\n",
        "  with open (filepath , 'r') as file:\n",
        "    cvs_reader = csv.reader(file)\n",
        "    dataset = [row for row in cvs_reader if row] # Asegura excluir filas vacias\n",
        "  return dataset\n"
      ]
    },
    {
      "cell_type": "code",
      "source": [
        "# Funcion permite agrupar por especie y sus diferentes caracteristicas\n",
        "\n",
        "def agrupar_por_especie(datos):\n",
        "  grupos = {}\n",
        "  for fila in datos:\n",
        "    especie = fila[-1]\n",
        "    caracteristicas = list(map(float, fila[:-1])) #Convierte a float todas menos la especie\n",
        "    if especie not in grupos:\n",
        "      grupos[especie] = { 'Longitud_sepalo': [],\n",
        "                          'ancho_sepalo': [],\n",
        "                          'longitud_petalo': [],\n",
        "                          'ancho_petalo': []}\n",
        "\n",
        "    grupos[especie]['Longitud_sepalo'].append(caracteristicas[0])\n",
        "    grupos[especie]['ancho_sepalo'].append(caracteristicas[1])\n",
        "    grupos[especie]['longitud_petalo'].append(caracteristicas[2])\n",
        "    grupos[especie]['ancho_petalo'].append(caracteristicas[3])\n",
        "  return grupos\n",
        "\n",
        "\n",
        ""
      ],
      "metadata": {
        "id": "Wp9IOS-7FkvG"
      },
      "execution_count": 4,
      "outputs": []
    },
    {
      "cell_type": "code",
      "source": [
        "class Flor:\n",
        "\n",
        "  def __init__(self, longitud_sepalo, ancho_sepalo, longitud_petalo, ancho_petalo):\n",
        "      #Inicializa la flor\n",
        "      self.longitud_sepalo = longitud_sepalo\n",
        "      self.ancho_sepalo = ancho_sepalo\n",
        "      self.longitud_petalo = longitud_petalo\n",
        "      self.ancho_petalo = ancho_petalo\n",
        "\n",
        "  def promedio(self, datos):\n",
        "    #Calcula el promedio de una lista de valores\n",
        "    return sum(datos) / len(datos)\n",
        "\n",
        "  def desviacion_estandar(self, datos):\n",
        "    #Calcula la desviacion estandar de una lista de valores\n",
        "    promedio = self.promedio(datos)\n",
        "    variance = sum([(x - promedio) ** 2 for x in datos]) / len(datos)\n",
        "    return math.sqrt(variance)\n",
        "\n",
        "  def analisis(self):\n",
        "    \"Devuelve el analisis de la flor promedio y desviacion estandar para cada caracteristica\"\n",
        "\n",
        "    analisis = {\n",
        "        'Longitud_sepalo': {\n",
        "            'promedio': self.promedio(self.longitud_sepalo),\n",
        "            'desviacion_estandar': self.desviacion_estandar(self.longitud_sepalo)\n",
        "        },\n",
        "        'ancho_sepalo': {\n",
        "            'promedio': self.promedio(self.ancho_sepalo),\n",
        "            'desviacion_estandar': self.desviacion_estandar(self.ancho_sepalo)\n",
        "        },\n",
        "        'longitud_petalo': {\n",
        "            'promedio': self.promedio(self.longitud_petalo),\n",
        "            'desviacion_estandar': self.desviacion_estandar(self.longitud_petalo)\n",
        "        },\n",
        "        'ancho_petalo': {\n",
        "            'promedio': self.promedio(self.ancho_petalo),\n",
        "            'desviacion_estandar': self.desviacion_estandar(self.ancho_petalo)\n",
        "        }\n",
        "    }\n",
        "    return analisis\n",
        "\n",
        "\n",
        "\n",
        "\n",
        "\n",
        "\n",
        "\n",
        "\n",
        "\n",
        "\n",
        "\n"
      ],
      "metadata": {
        "id": "4f2WQ9i0KE9I"
      },
      "execution_count": 5,
      "outputs": []
    },
    {
      "cell_type": "code",
      "source": [
        "#Mostrar datos\n",
        "datos = cargar_datos('iris.data.txt')\n",
        "print(datos)\n",
        "\n",
        "#Agrupar por especie\n",
        "flores = agrupar_por_especie(datos)\n",
        "Iris_Setosa = Flor (flores['Iris-setosa']['Longitud_sepalo'],\n",
        "                    flores['Iris-setosa']['ancho_sepalo'],\n",
        "                    flores['Iris-setosa']['longitud_petalo'],\n",
        "                    flores['Iris-setosa']['ancho_petalo'])\n",
        "\n",
        "Iris_versicolor = Flor (flores['Iris-versicolor']['Longitud_sepalo'],\n",
        "                    flores['Iris-versicolor']['ancho_sepalo'],\n",
        "                    flores['Iris-versicolor']['longitud_petalo'],\n",
        "                    flores['Iris-versicolor']['ancho_petalo'])\n",
        "\n",
        "\n",
        "print(Iris_Setosa.analisis())\n",
        "print(Iris_versicolor.analisis())\n"
      ],
      "metadata": {
        "colab": {
          "base_uri": "https://localhost:8080/"
        },
        "id": "XpA1tAjTFIk3",
        "outputId": "16575632-8aed-4473-8951-f9cb2437e0b5"
      },
      "execution_count": 9,
      "outputs": [
        {
          "output_type": "stream",
          "name": "stdout",
          "text": [
            "[['5.1', '3.5', '1.4', '0.2', 'Iris-setosa'], ['4.9', '3.0', '1.4', '0.2', 'Iris-setosa'], ['4.7', '3.2', '1.3', '0.2', 'Iris-setosa'], ['4.6', '3.1', '1.5', '0.2', 'Iris-setosa'], ['5.0', '3.6', '1.4', '0.2', 'Iris-setosa'], ['5.4', '3.9', '1.7', '0.4', 'Iris-setosa'], ['4.6', '3.4', '1.4', '0.3', 'Iris-setosa'], ['5.0', '3.4', '1.5', '0.2', 'Iris-setosa'], ['4.4', '2.9', '1.4', '0.2', 'Iris-setosa'], ['4.9', '3.1', '1.5', '0.1', 'Iris-setosa'], ['5.4', '3.7', '1.5', '0.2', 'Iris-setosa'], ['4.8', '3.4', '1.6', '0.2', 'Iris-setosa'], ['4.8', '3.0', '1.4', '0.1', 'Iris-setosa'], ['4.3', '3.0', '1.1', '0.1', 'Iris-setosa'], ['5.8', '4.0', '1.2', '0.2', 'Iris-setosa'], ['5.7', '4.4', '1.5', '0.4', 'Iris-setosa'], ['5.4', '3.9', '1.3', '0.4', 'Iris-setosa'], ['5.1', '3.5', '1.4', '0.3', 'Iris-setosa'], ['5.7', '3.8', '1.7', '0.3', 'Iris-setosa'], ['5.1', '3.8', '1.5', '0.3', 'Iris-setosa'], ['5.4', '3.4', '1.7', '0.2', 'Iris-setosa'], ['5.1', '3.7', '1.5', '0.4', 'Iris-setosa'], ['4.6', '3.6', '1.0', '0.2', 'Iris-setosa'], ['5.1', '3.3', '1.7', '0.5', 'Iris-setosa'], ['4.8', '3.4', '1.9', '0.2', 'Iris-setosa'], ['5.0', '3.0', '1.6', '0.2', 'Iris-setosa'], ['5.0', '3.4', '1.6', '0.4', 'Iris-setosa'], ['5.2', '3.5', '1.5', '0.2', 'Iris-setosa'], ['5.2', '3.4', '1.4', '0.2', 'Iris-setosa'], ['4.7', '3.2', '1.6', '0.2', 'Iris-setosa'], ['4.8', '3.1', '1.6', '0.2', 'Iris-setosa'], ['5.4', '3.4', '1.5', '0.4', 'Iris-setosa'], ['5.2', '4.1', '1.5', '0.1', 'Iris-setosa'], ['5.5', '4.2', '1.4', '0.2', 'Iris-setosa'], ['4.9', '3.1', '1.5', '0.1', 'Iris-setosa'], ['5.0', '3.2', '1.2', '0.2', 'Iris-setosa'], ['5.5', '3.5', '1.3', '0.2', 'Iris-setosa'], ['4.9', '3.1', '1.5', '0.1', 'Iris-setosa'], ['4.4', '3.0', '1.3', '0.2', 'Iris-setosa'], ['5.1', '3.4', '1.5', '0.2', 'Iris-setosa'], ['5.0', '3.5', '1.3', '0.3', 'Iris-setosa'], ['4.5', '2.3', '1.3', '0.3', 'Iris-setosa'], ['4.4', '3.2', '1.3', '0.2', 'Iris-setosa'], ['5.0', '3.5', '1.6', '0.6', 'Iris-setosa'], ['5.1', '3.8', '1.9', '0.4', 'Iris-setosa'], ['4.8', '3.0', '1.4', '0.3', 'Iris-setosa'], ['5.1', '3.8', '1.6', '0.2', 'Iris-setosa'], ['4.6', '3.2', '1.4', '0.2', 'Iris-setosa'], ['5.3', '3.7', '1.5', '0.2', 'Iris-setosa'], ['5.0', '3.3', '1.4', '0.2', 'Iris-setosa'], ['7.0', '3.2', '4.7', '1.4', 'Iris-versicolor'], ['6.4', '3.2', '4.5', '1.5', 'Iris-versicolor'], ['6.9', '3.1', '4.9', '1.5', 'Iris-versicolor'], ['5.5', '2.3', '4.0', '1.3', 'Iris-versicolor'], ['6.5', '2.8', '4.6', '1.5', 'Iris-versicolor'], ['5.7', '2.8', '4.5', '1.3', 'Iris-versicolor'], ['6.3', '3.3', '4.7', '1.6', 'Iris-versicolor'], ['4.9', '2.4', '3.3', '1.0', 'Iris-versicolor'], ['6.6', '2.9', '4.6', '1.3', 'Iris-versicolor'], ['5.2', '2.7', '3.9', '1.4', 'Iris-versicolor'], ['5.0', '2.0', '3.5', '1.0', 'Iris-versicolor'], ['5.9', '3.0', '4.2', '1.5', 'Iris-versicolor'], ['6.0', '2.2', '4.0', '1.0', 'Iris-versicolor'], ['6.1', '2.9', '4.7', '1.4', 'Iris-versicolor'], ['5.6', '2.9', '3.6', '1.3', 'Iris-versicolor'], ['6.7', '3.1', '4.4', '1.4', 'Iris-versicolor'], ['5.6', '3.0', '4.5', '1.5', 'Iris-versicolor'], ['5.8', '2.7', '4.1', '1.0', 'Iris-versicolor'], ['6.2', '2.2', '4.5', '1.5', 'Iris-versicolor'], ['5.6', '2.5', '3.9', '1.1', 'Iris-versicolor'], ['5.9', '3.2', '4.8', '1.8', 'Iris-versicolor'], ['6.1', '2.8', '4.0', '1.3', 'Iris-versicolor'], ['6.3', '2.5', '4.9', '1.5', 'Iris-versicolor'], ['6.1', '2.8', '4.7', '1.2', 'Iris-versicolor'], ['6.4', '2.9', '4.3', '1.3', 'Iris-versicolor'], ['6.6', '3.0', '4.4', '1.4', 'Iris-versicolor'], ['6.8', '2.8', '4.8', '1.4', 'Iris-versicolor'], ['6.7', '3.0', '5.0', '1.7', 'Iris-versicolor'], ['6.0', '2.9', '4.5', '1.5', 'Iris-versicolor'], ['5.7', '2.6', '3.5', '1.0', 'Iris-versicolor'], ['5.5', '2.4', '3.8', '1.1', 'Iris-versicolor'], ['5.5', '2.4', '3.7', '1.0', 'Iris-versicolor'], ['5.8', '2.7', '3.9', '1.2', 'Iris-versicolor'], ['6.0', '2.7', '5.1', '1.6', 'Iris-versicolor'], ['5.4', '3.0', '4.5', '1.5', 'Iris-versicolor'], ['6.0', '3.4', '4.5', '1.6', 'Iris-versicolor'], ['6.7', '3.1', '4.7', '1.5', 'Iris-versicolor'], ['6.3', '2.3', '4.4', '1.3', 'Iris-versicolor'], ['5.6', '3.0', '4.1', '1.3', 'Iris-versicolor'], ['5.5', '2.5', '4.0', '1.3', 'Iris-versicolor'], ['5.5', '2.6', '4.4', '1.2', 'Iris-versicolor'], ['6.1', '3.0', '4.6', '1.4', 'Iris-versicolor'], ['5.8', '2.6', '4.0', '1.2', 'Iris-versicolor'], ['5.0', '2.3', '3.3', '1.0', 'Iris-versicolor'], ['5.6', '2.7', '4.2', '1.3', 'Iris-versicolor'], ['5.7', '3.0', '4.2', '1.2', 'Iris-versicolor'], ['5.7', '2.9', '4.2', '1.3', 'Iris-versicolor'], ['6.2', '2.9', '4.3', '1.3', 'Iris-versicolor'], ['5.1', '2.5', '3.0', '1.1', 'Iris-versicolor'], ['5.7', '2.8', '4.1', '1.3', 'Iris-versicolor'], ['6.3', '3.3', '6.0', '2.5', 'Iris-virginica'], ['5.8', '2.7', '5.1', '1.9', 'Iris-virginica'], ['7.1', '3.0', '5.9', '2.1', 'Iris-virginica'], ['6.3', '2.9', '5.6', '1.8', 'Iris-virginica'], ['6.5', '3.0', '5.8', '2.2', 'Iris-virginica'], ['7.6', '3.0', '6.6', '2.1', 'Iris-virginica'], ['4.9', '2.5', '4.5', '1.7', 'Iris-virginica'], ['7.3', '2.9', '6.3', '1.8', 'Iris-virginica'], ['6.7', '2.5', '5.8', '1.8', 'Iris-virginica'], ['7.2', '3.6', '6.1', '2.5', 'Iris-virginica'], ['6.5', '3.2', '5.1', '2.0', 'Iris-virginica'], ['6.4', '2.7', '5.3', '1.9', 'Iris-virginica'], ['6.8', '3.0', '5.5', '2.1', 'Iris-virginica'], ['5.7', '2.5', '5.0', '2.0', 'Iris-virginica'], ['5.8', '2.8', '5.1', '2.4', 'Iris-virginica'], ['6.4', '3.2', '5.3', '2.3', 'Iris-virginica'], ['6.5', '3.0', '5.5', '1.8', 'Iris-virginica'], ['7.7', '3.8', '6.7', '2.2', 'Iris-virginica'], ['7.7', '2.6', '6.9', '2.3', 'Iris-virginica'], ['6.0', '2.2', '5.0', '1.5', 'Iris-virginica'], ['6.9', '3.2', '5.7', '2.3', 'Iris-virginica'], ['5.6', '2.8', '4.9', '2.0', 'Iris-virginica'], ['7.7', '2.8', '6.7', '2.0', 'Iris-virginica'], ['6.3', '2.7', '4.9', '1.8', 'Iris-virginica'], ['6.7', '3.3', '5.7', '2.1', 'Iris-virginica'], ['7.2', '3.2', '6.0', '1.8', 'Iris-virginica'], ['6.2', '2.8', '4.8', '1.8', 'Iris-virginica'], ['6.1', '3.0', '4.9', '1.8', 'Iris-virginica'], ['6.4', '2.8', '5.6', '2.1', 'Iris-virginica'], ['7.2', '3.0', '5.8', '1.6', 'Iris-virginica'], ['7.4', '2.8', '6.1', '1.9', 'Iris-virginica'], ['7.9', '3.8', '6.4', '2.0', 'Iris-virginica'], ['6.4', '2.8', '5.6', '2.2', 'Iris-virginica'], ['6.3', '2.8', '5.1', '1.5', 'Iris-virginica'], ['6.1', '2.6', '5.6', '1.4', 'Iris-virginica'], ['7.7', '3.0', '6.1', '2.3', 'Iris-virginica'], ['6.3', '3.4', '5.6', '2.4', 'Iris-virginica'], ['6.4', '3.1', '5.5', '1.8', 'Iris-virginica'], ['6.0', '3.0', '4.8', '1.8', 'Iris-virginica'], ['6.9', '3.1', '5.4', '2.1', 'Iris-virginica'], ['6.7', '3.1', '5.6', '2.4', 'Iris-virginica'], ['6.9', '3.1', '5.1', '2.3', 'Iris-virginica'], ['5.8', '2.7', '5.1', '1.9', 'Iris-virginica'], ['6.8', '3.2', '5.9', '2.3', 'Iris-virginica'], ['6.7', '3.3', '5.7', '2.5', 'Iris-virginica'], ['6.7', '3.0', '5.2', '2.3', 'Iris-virginica'], ['6.3', '2.5', '5.0', '1.9', 'Iris-virginica'], ['6.5', '3.0', '5.2', '2.0', 'Iris-virginica'], ['6.2', '3.4', '5.4', '2.3', 'Iris-virginica'], ['5.9', '3.0', '5.1', '1.8', 'Iris-virginica']]\n",
            "{'Longitud_sepalo': {'promedio': 5.005999999999999, 'desviacion_estandar': 0.348946987377739}, 'ancho_sepalo': {'promedio': 3.4180000000000006, 'desviacion_estandar': 0.37719490982779713}, 'longitud_petalo': {'promedio': 1.464, 'desviacion_estandar': 0.17176728442867115}, 'ancho_petalo': {'promedio': 0.2439999999999999, 'desviacion_estandar': 0.10613199329137278}}\n",
            "{'Longitud_sepalo': {'promedio': 5.936, 'desviacion_estandar': 0.5109833656783752}, 'ancho_sepalo': {'promedio': 2.7700000000000005, 'desviacion_estandar': 0.31064449134018135}, 'longitud_petalo': {'promedio': 4.26, 'desviacion_estandar': 0.4651881339845204}, 'ancho_petalo': {'promedio': 1.3259999999999998, 'desviacion_estandar': 0.19576516544063702}}\n"
          ]
        }
      ]
    },
    {
      "cell_type": "markdown",
      "source": [
        "# 🌸 Análisis Estadístico de Flores por Especie (Python)\n",
        "\n",
        "Este proyecto realiza un análisis estadístico básico (promedio y desviación estándar) de características florales, agrupadas por especie, usando programación orientada a objetos en Python. Es ideal como ejercicio introductorio al manejo de datos, clases y funciones estadísticas.\n",
        "\n",
        "---\n",
        "\n",
        "## 📌 Características Analizadas\n",
        "\n",
        "Cada flor se describe mediante las siguientes características:\n",
        "\n",
        "- Longitud del sépalo\n",
        "- Ancho del sépalo\n",
        "- Longitud del pétalo\n",
        "- Ancho del pétalo\n",
        "- Especie (nombre)\n",
        "\n",
        "---\n",
        "\n",
        "## 🧠 Objetivo del Proyecto\n",
        "\n",
        "1. Agrupar flores por especie.\n",
        "2. Calcular:\n",
        "   - Promedio de cada característica.\n",
        "   - Desviación estándar de cada característica.\n",
        "3. Presentar un análisis estructurado por especie.\n",
        "\n",
        "---\n",
        "\n",
        "## 🛠️ Estructura del Proyecto\n",
        "\n",
        "- `Flor`: clase que calcula estadísticas para un conjunto de flores.\n",
        "- `agrupar_por_especie()`: función que agrupa los datos por especie.\n",
        "- `main.py` o archivo de prueba: contiene datos de ejemplo y ejecución del análisis.\n",
        "\n",
        "---\n",
        "\n",
        "## 🧪 Ejemplo de uso\n",
        "\n",
        "```python\n",
        "from flor import Flor\n",
        "from agrupador import agrupar_por_especie\n",
        "\n",
        "# Lista de flores: 4 características + especie (último elemento)\n",
        "datos = [\n",
        "    [5.1, 3.5, 1.4, 0.2, 'Iris-setosa'],\n",
        "    [4.9, 3.0, 1.4, 0.2, 'Iris-setosa'],\n",
        "    [7.0, 3.2, 4.7, 1.4, 'Iris-versicolor']\n",
        "]\n",
        "\n",
        "# Agrupar por especie\n",
        "grupos = agrupar_por_especie(datos)\n",
        "\n",
        "# Analizar cada grupo\n",
        "for especie, caracteristicas in grupos.items():\n",
        "    flor = Flor(\n",
        "        caracteristicas['Longitud_sepalo'],\n",
        "        caracteristicas['ancho_sepalo'],\n",
        "        caracteristicas['longitud_petalo'],\n",
        "        caracteristicas['ancho_petalo']\n",
        "    )\n",
        "    print(f\"\\n📊 Análisis para {especie}\")\n",
        "    print(flor.analisis())"
      ],
      "metadata": {
        "id": "jUeiGSAKPaDw"
      }
    }
  ]
}